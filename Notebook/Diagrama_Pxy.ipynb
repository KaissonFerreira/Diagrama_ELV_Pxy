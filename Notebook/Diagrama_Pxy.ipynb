{
  "nbformat": 4,
  "nbformat_minor": 0,
  "metadata": {
    "colab": {
      "name": "Diagrama_Pxy.ipynb",
      "provenance": [],
      "collapsed_sections": [],
      "mount_file_id": "1bnGvceKQ7UXakUqCFztvyZboXMSsXYgU",
      "authorship_tag": "ABX9TyO+dEVcCkZVAcCHrsCfBdRZ",
      "include_colab_link": true
    },
    "kernelspec": {
      "name": "python3",
      "display_name": "Python 3"
    },
    "language_info": {
      "name": "python"
    }
  },
  "cells": [
    {
      "cell_type": "markdown",
      "metadata": {
        "id": "view-in-github",
        "colab_type": "text"
      },
      "source": [
        "<a href=\"https://colab.research.google.com/github/KaissonFerreira/Diagrama_ELV_Pxy/blob/main/Notebook/Diagrama_Pxy.ipynb\" target=\"_parent\"><img src=\"https://colab.research.google.com/assets/colab-badge.svg\" alt=\"Open In Colab\"/></a>"
      ]
    },
    {
      "cell_type": "markdown",
      "metadata": {
        "id": "KEQGiwfumFyv"
      },
      "source": [
        "# Projetando o diagrama Pxy para equílibrio Líquido-vapor de compostos binários.\n",
        "\n",
        "\n",
        "---\n",
        "Problema: Desenvolver um programa que construa um diagrama Pxy a partir de um banco de dados, para quando o usuário inserir os nomes das substâncias, as informações de cada uma delas sejam retiradas diretamente desse banco.\n"
      ]
    },
    {
      "cell_type": "markdown",
      "metadata": {
        "id": "Dcav5M_hiMDQ"
      },
      "source": [
        "### Importando bibliotecas\n"
      ]
    },
    {
      "cell_type": "code",
      "metadata": {
        "id": "gZE-q9mjh8a9"
      },
      "source": [
        "import numpy as np\n",
        "import pandas as pd\n",
        "import matplotlib.pyplot as plt "
      ],
      "execution_count": 1,
      "outputs": []
    },
    {
      "cell_type": "markdown",
      "metadata": {
        "id": "H2cFwQFHck1d"
      },
      "source": [
        "### Extração e tratamento dos dados"
      ]
    },
    {
      "cell_type": "markdown",
      "metadata": {
        "id": "ZxYf35rrfwsk"
      },
      "source": [
        "Leitura do banco de dados e transformação da primeira coluna em uma lista:"
      ]
    },
    {
      "cell_type": "code",
      "metadata": {
        "colab": {
          "base_uri": "https://localhost:8080/"
        },
        "id": "h5-yeDB1pyE5",
        "outputId": "44a3edc3-e2f5-4687-e87c-2a657bcf8d8a"
      },
      "source": [
        "df=pd.read_excel('https://github.com/KaissonFerreira/Diagrama_ELV_Pxy/blob/main/C%C3%B3pia%20de%20dataset.xlsx?raw=true')\n",
        "df=df.drop('Fórmula', axis= 'columns') # Exclusão da coluna 'Fórmula' por que não é preciso.\n",
        "composto=list(df['Composto']) # Transformando a coluna 'Composto em uma lista.\n",
        "composto"
      ],
      "execution_count": 4,
      "outputs": [
        {
          "output_type": "execute_result",
          "data": {
            "text/plain": [
              "['Acetona',\n",
              " 'Ácido acético',\n",
              " 'Água',\n",
              " 'Anilina',\n",
              " 'Benzeno',\n",
              " 'i-Butano',\n",
              " 'n-Butano',\n",
              " 'Estireno',\n",
              " 'Etanol',\n",
              " 'Éter dietílico',\n",
              " 'Etilbenzeno',\n",
              " 'Etilenoglicol',\n",
              " 'n-Heptano',\n",
              " 'n-Hexano',\n",
              " 'n-Octano',\n",
              " 'i-Pentano',\n",
              " 'n-Pentano',\n",
              " 'Tolueno',\n",
              " 'o-Xileno',\n",
              " 'm-Xileno',\n",
              " 'p-Xileno']"
            ]
          },
          "metadata": {
            "tags": []
          },
          "execution_count": 4
        }
      ]
    },
    {
      "cell_type": "markdown",
      "metadata": {
        "id": "c59H0YrSdI3B"
      },
      "source": [
        "### Criação de array e das funções"
      ]
    },
    {
      "cell_type": "markdown",
      "metadata": {
        "id": "OjY7pcn_f888"
      },
      "source": [
        "Criando uma array para composição em x, e inserindo funções de input para que o usuário possa dizer qual substância ele quer plotar:"
      ]
    },
    {
      "cell_type": "code",
      "metadata": {
        "colab": {
          "base_uri": "https://localhost:8080/"
        },
        "id": "8K30bi27mY7C",
        "outputId": "e4ea85cd-2c6b-479a-c33f-6a5a51159c37"
      },
      "source": [
        "xx = np.arange(0,1.1,0.1)\n",
        "prop_valor= float(input('Digite o valor da temperatura em °C: '))\n",
        "NC = 2\n",
        "print('\\n\\nPara a construção do diagrama Pxy de um composto binário insira os nomes das substâncias: ')\n",
        "subst_1 = str(input('\\nInsira o nome da substância 1: '))\n",
        "subst_2 = str(input('\\nInsira o nome da substância 2: '))\n"
      ],
      "execution_count": 5,
      "outputs": [
        {
          "output_type": "stream",
          "text": [
            "Digite o valor da temperatura em °C: 70\n",
            "\n",
            "\n",
            "Para a construção do diagrama Pxy de um composto binário insira os nomes das substâncias: \n",
            "\n",
            "Insira o nome da substância 1: Água\n",
            "\n",
            "Insira o nome da substância 2: Benzeno\n"
          ],
          "name": "stdout"
        }
      ]
    },
    {
      "cell_type": "markdown",
      "metadata": {
        "id": "lP65OKEHzGYG"
      },
      "source": [
        "Aplicando o método for e o condicional if para encontrar a linha exata que está o composto inserido pelo usuário, e em seguida, indexando os respectivos valores para uma variável separadamente."
      ]
    },
    {
      "cell_type": "code",
      "metadata": {
        "id": "Dljzhh0Qpwpa"
      },
      "source": [
        "\n",
        "for i in range(0,21,1):\n",
        "  if composto[i] == subst_1:\n",
        "    break\n",
        "\n",
        "a_1 = float(df.loc[df.index[i],['A']])\n",
        "b_1=float(df.loc[df.index[i],['B']])\n",
        "c_1=float(df.loc[df.index[i],['C']])\n"
      ],
      "execution_count": 11,
      "outputs": []
    },
    {
      "cell_type": "code",
      "metadata": {
        "id": "mlye6tK6W7lv"
      },
      "source": [
        "\n",
        "for i in range(0,21,1):\n",
        "  if composto[i] == subst_2:\n",
        "    break\n",
        "a_2 = float(df.loc[df.index[i],['A']])\n",
        "b_2=float(df.loc[df.index[i],['B']])\n",
        "c_2=float(df.loc[df.index[i],['C']])\n"
      ],
      "execution_count": 7,
      "outputs": []
    },
    {
      "cell_type": "markdown",
      "metadata": {
        "id": "BmbQeCGrzsHd"
      },
      "source": [
        "Criando as variáveis que receberão os dados coletados e dimensionados de forma de array para os devidos cálculos:"
      ]
    },
    {
      "cell_type": "code",
      "metadata": {
        "id": "kOni19aDh-Wd"
      },
      "source": [
        "\n",
        "A = np.array([a_1,a_2])\n",
        "B= np.array([b_1,b_2])\n",
        "C= np.array([c_1,c_2])\n",
        "psat = np.zeros((NC))\n",
        "x = np.zeros((NC))\n",
        "p = np.zeros(xx.size)\n",
        "y = np.zeros((xx.size,NC))"
      ],
      "execution_count": 12,
      "outputs": []
    },
    {
      "cell_type": "markdown",
      "metadata": {
        "id": "TE_ABriHz7gK"
      },
      "source": [
        "Utilizando o método For para calcular a pressão de saturação para cada substância, além de calcular a pressão total do sistema para cada composição e também a fração molar em vapor para a respectiva pressão:"
      ]
    },
    {
      "cell_type": "code",
      "metadata": {
        "id": "G4-WJYqtiCjW"
      },
      "source": [
        "for i in range(NC):\n",
        "    psat[i]=np.exp(A[i]-B[i]/(prop_valor+C[i]))\n",
        "psat=psat*0.00133\n",
        "\n"
      ],
      "execution_count": 13,
      "outputs": []
    },
    {
      "cell_type": "code",
      "metadata": {
        "id": "iGjJFv8riU5I"
      },
      "source": [
        "i=0\n",
        "for x1 in xx:\n",
        "    x=np.array([x1,1-x1])\n",
        "    p[i]=np.sum(np.dot(x,psat))\n",
        "    for j in range(NC):\n",
        "        y[i,j]=x[j]*psat[j]/p[i]\n",
        "    i += 1\n"
      ],
      "execution_count": 14,
      "outputs": []
    },
    {
      "cell_type": "markdown",
      "metadata": {
        "id": "w6uC68STdmZn"
      },
      "source": [
        "### Criação do diagrama Pxy:"
      ]
    },
    {
      "cell_type": "markdown",
      "metadata": {
        "id": "VYAan6do0S5F"
      },
      "source": [
        "Por fim, os códigos que serão usados da biblioteca Matplotlib para a construção do diagrama Pxy:"
      ]
    },
    {
      "cell_type": "code",
      "metadata": {
        "colab": {
          "base_uri": "https://localhost:8080/",
          "height": 281
        },
        "id": "kKW_YlthiYZ7",
        "outputId": "2e08050c-864a-475b-a015-2e1fc775794d"
      },
      "source": [
        "plt.plot(xx,p,label='Fração molar na fase líquida, $x_1$')\n",
        "plt.plot(y[:,0],p,label='Fração molar na fase vapor, $y_1$') \n",
        "plt.legend(loc='best')\n",
        "plt.xlabel('$x_1$,$y_1$')\n",
        "plt.ylabel('Pressão [Bar]')\n",
        "plt.grid(color='k',linestyle=':')\n",
        "plt.show()"
      ],
      "execution_count": 15,
      "outputs": [
        {
          "output_type": "display_data",
          "data": {
            "image/png": "[encoded data removed]",
            "text/plain": [
              "<Figure size 432x288 with 1 Axes>"
            ]
          },
          "metadata": {
            "tags": [],
            "needs_background": "light"
          }
        }
      ]
    },
    {
      "cell_type": "code",
      "metadata": {
        "id": "ca2dDy-9qchf"
      },
      "source": [
        ""
      ],
      "execution_count": null,
      "outputs": []
    }
  ]
}